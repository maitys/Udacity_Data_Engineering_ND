{
 "metadata": {
  "language_info": {
   "codemirror_mode": {
    "name": "ipython",
    "version": 3
   },
   "file_extension": ".py",
   "mimetype": "text/x-python",
   "name": "python",
   "nbconvert_exporter": "python",
   "pygments_lexer": "ipython3",
   "version": "3.8.5"
  },
  "orig_nbformat": 2,
  "kernelspec": {
   "name": "python38564bitsmaityenv1venve7cdb67aa6504bf8a156dd9dad61b448",
   "display_name": "Python 3.8.5 64-bit"
  },
  "metadata": {
   "interpreter": {
    "hash": "ad5f1c7a3178e20c1bbeedd6decb9eaca6a386b6b099ff38092a999aa4ec604b"
   }
  }
 },
 "nbformat": 4,
 "nbformat_minor": 2,
 "cells": [
  {
   "source": [
    "# <ins>Project 1B - Data Modeling with Cassandra</ins>"
   ],
   "cell_type": "markdown",
   "metadata": {}
  },
  {
   "source": [
    "## Part I. ETL Pipeline for Pre-Processing the Files\n",
    "\n",
    "PLEASE RUN THE FOLLOWING CODE FOR PRE-PROCESSING THE FILES"
   ],
   "cell_type": "markdown",
   "metadata": {}
  },
  {
   "source": [
    "### Import Packages"
   ],
   "cell_type": "markdown",
   "metadata": {}
  },
  {
   "cell_type": "code",
   "execution_count": 1,
   "metadata": {},
   "outputs": [
    {
     "output_type": "stream",
     "name": "stdout",
     "text": [
      "Executable Python: /home/siddharth/virtual_envs/smaity_env1/bin/python3\nPython Version: 3.8.5\n"
     ]
    }
   ],
   "source": [
    "import pandas as pd\n",
    "import cassandra\n",
    "import re\n",
    "import os\n",
    "import glob\n",
    "import numpy as np\n",
    "import json\n",
    "import csv\n",
    "import sys\n",
    "import platform\n",
    "print(f\"Executable Python: {sys.executable}\")\n",
    "print(f\"Python Version: {platform.python_version()}\")"
   ]
  },
  {
   "source": [
    "### Creating list of filepaths to process original event csv data files"
   ],
   "cell_type": "markdown",
   "metadata": {}
  },
  {
   "cell_type": "code",
   "execution_count": 2,
   "metadata": {},
   "outputs": [
    {
     "output_type": "stream",
     "name": "stdout",
     "text": [
      "/home/siddharth/Documents/GitHub/Udacity_Data_Engineering_ND/Data_Modeling/3_NoSQL_Data_Models/Project_2_Data_Modeling_with_Cassandra\n"
     ]
    }
   ],
   "source": [
    "# checking your current working directory\n",
    "print(os.getcwd())\n",
    "\n",
    "# Get your current folder and subfolder event data\n",
    "filepath = os.getcwd() + '/event_data'\n",
    "\n",
    "# Create a for loop to create a list of files and collect each filepath\n",
    "for root, dirs, files in os.walk(filepath):\n",
    "    \n",
    "# join the file path and roots with the subdirectories using glob\n",
    "    file_path_list = glob.glob(os.path.join(root,'*'))\n",
    "    # print(file_path_list)"
   ]
  },
  {
   "source": [
    "### Processing the files to create the data file csv that will be used for Apache Casssandra tables"
   ],
   "cell_type": "markdown",
   "metadata": {}
  },
  {
   "cell_type": "code",
   "execution_count": 3,
   "metadata": {},
   "outputs": [],
   "source": [
    "# initiating an empty list of rows that will be generated from each file\n",
    "full_data_rows_list = [] \n",
    "    \n",
    "# for every filepath in the file path list \n",
    "for f in file_path_list:\n",
    "\n",
    "# reading csv file \n",
    "    with open(f, 'r', encoding = 'utf8', newline='') as csvfile: \n",
    "        # creating a csv reader object \n",
    "        csvreader = csv.reader(csvfile) \n",
    "        next(csvreader)\n",
    "        \n",
    " # extracting each data row one by one and append it        \n",
    "        for line in csvreader:\n",
    "            #print(line)\n",
    "            full_data_rows_list.append(line) \n",
    "            \n",
    "# uncomment the code below if you would like to get total number of rows \n",
    "#print(len(full_data_rows_list))\n",
    "# uncomment the code below if you would like to check to see what the list of event data rows will look like\n",
    "#print(full_data_rows_list)\n",
    "\n",
    "# creating a smaller event data csv file called event_datafile_full csv that will be used to insert data into the \\\n",
    "# Apache Cassandra tables\n",
    "csv.register_dialect('myDialect', quoting=csv.QUOTE_ALL, skipinitialspace=True)\n",
    "\n",
    "with open('event_datafile_new.csv', 'w', encoding = 'utf8', newline='') as f:\n",
    "    writer = csv.writer(f, dialect='myDialect')\n",
    "    writer.writerow(['artist','firstName','gender','itemInSession','lastName','length',\\\n",
    "                'level','location','sessionId','song','userId'])\n",
    "    for row in full_data_rows_list:\n",
    "        if (row[0] == ''):\n",
    "            continue\n",
    "        writer.writerow((row[0], row[2], row[3], row[4], row[5], row[6], row[7], row[8], row[12], row[13], row[16]))"
   ]
  },
  {
   "source": [
    "## Part II. Complete the Apache Cassandra coding portion of your project. \n",
    "\n",
    "### Now you are ready to work with the CSV file titled <font color=red>event_datafile_new.csv</font>, located within the Workspace directory.  The event_datafile_new.csv contains the following columns: \n",
    "- artist \n",
    "- firstName of user\n",
    "- gender of user\n",
    "- item number in session\n",
    "- last name of user\n",
    "- length of the song\n",
    "- level (paid or free song)\n",
    "- location of the user\n",
    "- sessionId\n",
    "- song title\n",
    "- userId\n",
    "\n",
    "The image below is a screenshot of what the denormalized data should appear like in the <font color=red>**event_datafile_new.csv**</font> after the code above is run:<br>\n",
    "\n",
    "<img src=\"images/image_event_datafile_new.jpg\">"
   ],
   "cell_type": "markdown",
   "metadata": {}
  },
  {
   "source": [
    "### Creating a Cluster"
   ],
   "cell_type": "markdown",
   "metadata": {}
  },
  {
   "cell_type": "code",
   "execution_count": 4,
   "metadata": {},
   "outputs": [],
   "source": [
    "from cassandra.cluster import Cluster\n",
    "try: \n",
    "    cluster = Cluster(['127.0.0.1']) #If you have a locally installed Apache Cassandra instance\n",
    "    session = cluster.connect()\n",
    "except Exception as e:\n",
    "    print(e)"
   ]
  },
  {
   "source": [
    "### Create Keyspace"
   ],
   "cell_type": "markdown",
   "metadata": {}
  },
  {
   "cell_type": "code",
   "execution_count": 5,
   "metadata": {},
   "outputs": [],
   "source": [
    "try:\n",
    "    session.execute(\"\"\"\n",
    "    CREATE KEYSPACE IF NOT EXISTS smaity \n",
    "    WITH REPLICATION = \n",
    "    { 'class' : 'SimpleStrategy', 'replication_factor' : 1 }\"\"\"\n",
    ")\n",
    "\n",
    "except Exception as e:\n",
    "    print(e)"
   ]
  },
  {
   "source": [
    "### Set Keyspace"
   ],
   "cell_type": "markdown",
   "metadata": {}
  },
  {
   "cell_type": "code",
   "execution_count": 6,
   "metadata": {},
   "outputs": [],
   "source": [
    "try:\n",
    "    session.set_keyspace('smaity')\n",
    "except Exception as e:\n",
    "    print(e)"
   ]
  },
  {
   "source": [
    "## Create queries to ask the following three questions of the data\n",
    "\n",
    "### 1. Give me the artist, song title and song's length in the music app history that was heard during  sessionId = 338, and itemInSession  = 4\n",
    "\n",
    "\n",
    "### 2. Give me only the following: name of artist, song (sorted by itemInSession) and user (first and last name) for userid = 10, sessionid = 182\n",
    "    \n",
    "\n",
    "### 3. Give me every user name (first and last) in my music app history who listened to the song 'All Hands Against His Own'\n",
    "\n",
    "Create tables to run the above queries. Remember, with Apache Cassandra you model the database tables on the queries you want to run."
   ],
   "cell_type": "markdown",
   "metadata": {}
  },
  {
   "source": [
    "## Query 1"
   ],
   "cell_type": "markdown",
   "metadata": {}
  },
  {
   "cell_type": "code",
   "execution_count": 7,
   "metadata": {},
   "outputs": [],
   "source": [
    "## Setup Query\n",
    "query = \"CREATE TABLE IF NOT EXISTS session_item_table\"\n",
    "query = query + \"(artist text, song text, length float, sessionid int, iteminsession int, PRIMARY KEY (sessionid, iteminsession))\"\n",
    "\n",
    "try:\n",
    "    session.execute(query)\n",
    "except Exception as e:\n",
    "    print(e)"
   ]
  },
  {
   "cell_type": "code",
   "execution_count": 8,
   "metadata": {},
   "outputs": [],
   "source": [
    "# Insert Data\n",
    "file = 'event_datafile_new.csv'\n",
    "\n",
    "with open(file, encoding = 'utf8') as f:\n",
    "    csvreader = csv.reader(f)\n",
    "    next(csvreader) # skip header\n",
    "    for line in csvreader:\n",
    "        query = \"INSERT INTO session_item_table (artist, song, length, sessionid, iteminsession)\"\n",
    "        query = query + \"VALUES (%s, %s, %s, %s, %s)\"\n",
    "        session.execute(query, (line[0], line[9], float(line[5]), int(line[8]), int(line[3])))"
   ]
  },
  {
   "cell_type": "code",
   "execution_count": 9,
   "metadata": {},
   "outputs": [
    {
     "output_type": "stream",
     "name": "stdout",
     "text": [
      "Faithless Music Matters (Mark Knight Dub) 495.30731201171875\n"
     ]
    }
   ],
   "source": [
    "# Do a SELECT to verify that the data have been inserted into each table\n",
    "# Query - Give me the artist, song title and song's length in the music app history that was heard during sessionId = 338, and itemInSession = 4\n",
    "query_test = \"select artist, song, length from session_item_table where sessionid = 338 and iteminsession = 4\"\n",
    "try:\n",
    "    rows = session.execute(query_test)\n",
    "except Exception as e:\n",
    "    print(e)\n",
    "    \n",
    "for row in rows:\n",
    "    print (row.artist, row.song, row.length)"
   ]
  },
  {
   "cell_type": "code",
   "execution_count": 10,
   "metadata": {},
   "outputs": [
    {
     "output_type": "execute_result",
     "data": {
      "text/plain": [
       "         artist firstName gender  itemInSession  lastName    length level  \\\n",
       "4219  Faithless       Ava      F              4  Robinson  495.3073  free   \n",
       "\n",
       "                   location  sessionId                             song  \\\n",
       "4219  New Haven-Milford, CT        338  Music Matters (Mark Knight Dub)   \n",
       "\n",
       "      userId  \n",
       "4219      50  "
      ],
      "text/html": "<div>\n<style scoped>\n    .dataframe tbody tr th:only-of-type {\n        vertical-align: middle;\n    }\n\n    .dataframe tbody tr th {\n        vertical-align: top;\n    }\n\n    .dataframe thead th {\n        text-align: right;\n    }\n</style>\n<table border=\"1\" class=\"dataframe\">\n  <thead>\n    <tr style=\"text-align: right;\">\n      <th></th>\n      <th>artist</th>\n      <th>firstName</th>\n      <th>gender</th>\n      <th>itemInSession</th>\n      <th>lastName</th>\n      <th>length</th>\n      <th>level</th>\n      <th>location</th>\n      <th>sessionId</th>\n      <th>song</th>\n      <th>userId</th>\n    </tr>\n  </thead>\n  <tbody>\n    <tr>\n      <th>4219</th>\n      <td>Faithless</td>\n      <td>Ava</td>\n      <td>F</td>\n      <td>4</td>\n      <td>Robinson</td>\n      <td>495.3073</td>\n      <td>free</td>\n      <td>New Haven-Milford, CT</td>\n      <td>338</td>\n      <td>Music Matters (Mark Knight Dub)</td>\n      <td>50</td>\n    </tr>\n  </tbody>\n</table>\n</div>"
     },
     "metadata": {},
     "execution_count": 10
    }
   ],
   "source": [
    "# Pulling csv into dataframe to confirm all rows were retrieved by the query above\n",
    "df_test = pd.read_csv(\"event_datafile_new.csv\")\n",
    "df_test[(df_test[\"sessionId\"]==338) & (df_test[\"itemInSession\"]==4)]"
   ]
  },
  {
   "source": [
    "## Query 2"
   ],
   "cell_type": "markdown",
   "metadata": {}
  },
  {
   "cell_type": "code",
   "execution_count": 11,
   "metadata": {},
   "outputs": [],
   "source": [
    "## Setup Query\n",
    "query = \"CREATE TABLE IF NOT EXISTS user_session_table\"\n",
    "query = query + \"(artist text, song text, first_name text, last_name text, user_id int, session_id int, iteminsession int, PRIMARY KEY (user_id, session_id, iteminsession))\"\n",
    "\n",
    "try:\n",
    "    session.execute(query)\n",
    "except Exception as e:\n",
    "    print(e)"
   ]
  },
  {
   "cell_type": "code",
   "execution_count": 12,
   "metadata": {},
   "outputs": [],
   "source": [
    "# Insert Data\n",
    "file = 'event_datafile_new.csv'\n",
    "\n",
    "with open(file, encoding = 'utf8') as f:\n",
    "    csvreader = csv.reader(f)\n",
    "    next(csvreader) # skip header\n",
    "    for line in csvreader:\n",
    "        query = \"INSERT INTO user_session_table (artist, song, first_name, last_name, user_id, session_id, iteminsession)\"\n",
    "        query = query + \"VALUES (%s, %s, %s, %s, %s, %s, %s)\"\n",
    "        session.execute(query, (line[0], line[9], line[1], line[4], int(line[10]), int(line[8]), int(line[3])))"
   ]
  },
  {
   "cell_type": "code",
   "execution_count": 13,
   "metadata": {},
   "outputs": [
    {
     "output_type": "stream",
     "name": "stdout",
     "text": [
      "Down To The Bone Keep On Keepin' On Sylvie Cruz\nThree Drives Greece 2000 Sylvie Cruz\nSebastien Tellier Kilometer Sylvie Cruz\nLonnie Gordon Catch You Baby (Steve Pitron & Max Sanna Radio Edit) Sylvie Cruz\n"
     ]
    }
   ],
   "source": [
    "# Do a SELECT to verify that the data have been inserted into each table\n",
    "# Query - Give me only the following: name of artist, song (sorted by itemInSession) and user (first and last name) for userid = 10, sessionid = 182\n",
    "\n",
    "query_test = \"select artist, song, first_name, last_name from user_session_table where user_id = 10 and session_id = 182\"\n",
    "try:\n",
    "    rows = session.execute(query_test)\n",
    "except Exception as e:\n",
    "    print(e)\n",
    "    \n",
    "for row in rows:\n",
    "    print (row.artist, row.song, row.first_name, row.last_name)"
   ]
  },
  {
   "cell_type": "code",
   "execution_count": 14,
   "metadata": {},
   "outputs": [
    {
     "output_type": "execute_result",
     "data": {
      "text/plain": [
       "                 artist firstName gender  itemInSession lastName     length  \\\n",
       "4705   Down To The Bone    Sylvie      F              0     Cruz  333.76608   \n",
       "4706       Three Drives    Sylvie      F              1     Cruz  411.63710   \n",
       "4707  Sebastien Tellier    Sylvie      F              2     Cruz  377.73016   \n",
       "4708      Lonnie Gordon    Sylvie      F              3     Cruz  181.21098   \n",
       "\n",
       "     level                                      location  sessionId  \\\n",
       "4705  free  Washington-Arlington-Alexandria, DC-VA-MD-WV        182   \n",
       "4706  free  Washington-Arlington-Alexandria, DC-VA-MD-WV        182   \n",
       "4707  free  Washington-Arlington-Alexandria, DC-VA-MD-WV        182   \n",
       "4708  free  Washington-Arlington-Alexandria, DC-VA-MD-WV        182   \n",
       "\n",
       "                                                   song  userId  \n",
       "4705                                 Keep On Keepin' On      10  \n",
       "4706                                        Greece 2000      10  \n",
       "4707                                          Kilometer      10  \n",
       "4708  Catch You Baby (Steve Pitron & Max Sanna Radio...      10  "
      ],
      "text/html": "<div>\n<style scoped>\n    .dataframe tbody tr th:only-of-type {\n        vertical-align: middle;\n    }\n\n    .dataframe tbody tr th {\n        vertical-align: top;\n    }\n\n    .dataframe thead th {\n        text-align: right;\n    }\n</style>\n<table border=\"1\" class=\"dataframe\">\n  <thead>\n    <tr style=\"text-align: right;\">\n      <th></th>\n      <th>artist</th>\n      <th>firstName</th>\n      <th>gender</th>\n      <th>itemInSession</th>\n      <th>lastName</th>\n      <th>length</th>\n      <th>level</th>\n      <th>location</th>\n      <th>sessionId</th>\n      <th>song</th>\n      <th>userId</th>\n    </tr>\n  </thead>\n  <tbody>\n    <tr>\n      <th>4705</th>\n      <td>Down To The Bone</td>\n      <td>Sylvie</td>\n      <td>F</td>\n      <td>0</td>\n      <td>Cruz</td>\n      <td>333.76608</td>\n      <td>free</td>\n      <td>Washington-Arlington-Alexandria, DC-VA-MD-WV</td>\n      <td>182</td>\n      <td>Keep On Keepin' On</td>\n      <td>10</td>\n    </tr>\n    <tr>\n      <th>4706</th>\n      <td>Three Drives</td>\n      <td>Sylvie</td>\n      <td>F</td>\n      <td>1</td>\n      <td>Cruz</td>\n      <td>411.63710</td>\n      <td>free</td>\n      <td>Washington-Arlington-Alexandria, DC-VA-MD-WV</td>\n      <td>182</td>\n      <td>Greece 2000</td>\n      <td>10</td>\n    </tr>\n    <tr>\n      <th>4707</th>\n      <td>Sebastien Tellier</td>\n      <td>Sylvie</td>\n      <td>F</td>\n      <td>2</td>\n      <td>Cruz</td>\n      <td>377.73016</td>\n      <td>free</td>\n      <td>Washington-Arlington-Alexandria, DC-VA-MD-WV</td>\n      <td>182</td>\n      <td>Kilometer</td>\n      <td>10</td>\n    </tr>\n    <tr>\n      <th>4708</th>\n      <td>Lonnie Gordon</td>\n      <td>Sylvie</td>\n      <td>F</td>\n      <td>3</td>\n      <td>Cruz</td>\n      <td>181.21098</td>\n      <td>free</td>\n      <td>Washington-Arlington-Alexandria, DC-VA-MD-WV</td>\n      <td>182</td>\n      <td>Catch You Baby (Steve Pitron &amp; Max Sanna Radio...</td>\n      <td>10</td>\n    </tr>\n  </tbody>\n</table>\n</div>"
     },
     "metadata": {},
     "execution_count": 14
    }
   ],
   "source": [
    "# Pulling csv into dataframe to confirm all rows were retrieved by the query above\n",
    "df_test = pd.read_csv(\"event_datafile_new.csv\")\n",
    "df_test[(df_test[\"userId\"]==10) & (df_test[\"sessionId\"]==182)]"
   ]
  },
  {
   "source": [
    "## Query 3"
   ],
   "cell_type": "markdown",
   "metadata": {}
  },
  {
   "cell_type": "code",
   "execution_count": 15,
   "metadata": {},
   "outputs": [],
   "source": [
    "## Setup Query\n",
    "query = \"CREATE TABLE IF NOT EXISTS song_table\"\n",
    "query = query + \"(first_name text, last_name text, song text, PRIMARY KEY (song, first_name, last_name))\"\n",
    "\n",
    "try:\n",
    "    session.execute(query)\n",
    "except Exception as e:\n",
    "    print(e)"
   ]
  },
  {
   "cell_type": "code",
   "execution_count": 16,
   "metadata": {},
   "outputs": [],
   "source": [
    "# Insert Data\n",
    "file = 'event_datafile_new.csv'\n",
    "\n",
    "with open(file, encoding = 'utf8') as f:\n",
    "    csvreader = csv.reader(f)\n",
    "    next(csvreader) # skip header\n",
    "    for line in csvreader:\n",
    "        query = \"INSERT INTO song_table (first_name, last_name, song)\"\n",
    "        query = query + \"VALUES (%s, %s, %s)\"\n",
    "        session.execute(query, (line[1], line[4], line[9]))"
   ]
  },
  {
   "cell_type": "code",
   "execution_count": 17,
   "metadata": {},
   "outputs": [
    {
     "output_type": "stream",
     "name": "stdout",
     "text": [
      "Jacqueline Lynch\nSara Johnson\nTegan Levine\n"
     ]
    }
   ],
   "source": [
    "# Do a SELECT to verify that the data have been inserted into each table\n",
    "# Query - Give me every user name (first and last) in my music app history who listened to the song 'All Hands Against His Own'\n",
    "\n",
    "query_test = \"select first_name, last_name from song_table where song = 'All Hands Against His Own'\"\n",
    "try:\n",
    "    rows = session.execute(query_test)\n",
    "except Exception as e:\n",
    "    print(e)\n",
    "    \n",
    "for row in rows:\n",
    "    print (row.first_name, row.last_name)\n"
   ]
  },
  {
   "cell_type": "code",
   "execution_count": 18,
   "metadata": {},
   "outputs": [
    {
     "output_type": "execute_result",
     "data": {
      "text/plain": [
       "              artist   firstName gender  itemInSession lastName     length  \\\n",
       "2326  The Black Keys  Jacqueline      F             50    Lynch  196.91057   \n",
       "4984  The Black Keys       Tegan      F             25   Levine  196.91057   \n",
       "6418  The Black Keys        Sara      F             31  Johnson  196.91057   \n",
       "\n",
       "     level                           location  sessionId  \\\n",
       "2326  paid  Atlanta-Sandy Springs-Roswell, GA        559   \n",
       "4984  paid        Portland-South Portland, ME        611   \n",
       "6418  paid                  Winston-Salem, NC        152   \n",
       "\n",
       "                           song  userId  \n",
       "2326  All Hands Against His Own      29  \n",
       "4984  All Hands Against His Own      80  \n",
       "6418  All Hands Against His Own      95  "
      ],
      "text/html": "<div>\n<style scoped>\n    .dataframe tbody tr th:only-of-type {\n        vertical-align: middle;\n    }\n\n    .dataframe tbody tr th {\n        vertical-align: top;\n    }\n\n    .dataframe thead th {\n        text-align: right;\n    }\n</style>\n<table border=\"1\" class=\"dataframe\">\n  <thead>\n    <tr style=\"text-align: right;\">\n      <th></th>\n      <th>artist</th>\n      <th>firstName</th>\n      <th>gender</th>\n      <th>itemInSession</th>\n      <th>lastName</th>\n      <th>length</th>\n      <th>level</th>\n      <th>location</th>\n      <th>sessionId</th>\n      <th>song</th>\n      <th>userId</th>\n    </tr>\n  </thead>\n  <tbody>\n    <tr>\n      <th>2326</th>\n      <td>The Black Keys</td>\n      <td>Jacqueline</td>\n      <td>F</td>\n      <td>50</td>\n      <td>Lynch</td>\n      <td>196.91057</td>\n      <td>paid</td>\n      <td>Atlanta-Sandy Springs-Roswell, GA</td>\n      <td>559</td>\n      <td>All Hands Against His Own</td>\n      <td>29</td>\n    </tr>\n    <tr>\n      <th>4984</th>\n      <td>The Black Keys</td>\n      <td>Tegan</td>\n      <td>F</td>\n      <td>25</td>\n      <td>Levine</td>\n      <td>196.91057</td>\n      <td>paid</td>\n      <td>Portland-South Portland, ME</td>\n      <td>611</td>\n      <td>All Hands Against His Own</td>\n      <td>80</td>\n    </tr>\n    <tr>\n      <th>6418</th>\n      <td>The Black Keys</td>\n      <td>Sara</td>\n      <td>F</td>\n      <td>31</td>\n      <td>Johnson</td>\n      <td>196.91057</td>\n      <td>paid</td>\n      <td>Winston-Salem, NC</td>\n      <td>152</td>\n      <td>All Hands Against His Own</td>\n      <td>95</td>\n    </tr>\n  </tbody>\n</table>\n</div>"
     },
     "metadata": {},
     "execution_count": 18
    }
   ],
   "source": [
    "# Pulling csv into dataframe to confirm all rows were retrieved by the query above\n",
    "df_test = pd.read_csv(\"event_datafile_new.csv\")\n",
    "df_test[(df_test[\"song\"]=='All Hands Against His Own')]"
   ]
  },
  {
   "source": [
    "## Drop Tables"
   ],
   "cell_type": "markdown",
   "metadata": {}
  },
  {
   "cell_type": "code",
   "execution_count": 19,
   "metadata": {},
   "outputs": [],
   "source": [
    "query = \"drop table if exists session_item_table\"\n",
    "try:\n",
    "    rows = session.execute(query)\n",
    "except Exception as e:\n",
    "    print(e)\n",
    "\n",
    "query = \"drop table if exists user_session_table\"\n",
    "try:\n",
    "    rows = session.execute(query)\n",
    "except Exception as e:\n",
    "    print(e)\n",
    "\n",
    "query = \"drop table if exists song_table\"\n",
    "try:\n",
    "    rows = session.execute(query)\n",
    "except Exception as e:\n",
    "    print(e)"
   ]
  },
  {
   "source": [
    "## Close Session and cluster connection"
   ],
   "cell_type": "markdown",
   "metadata": {}
  },
  {
   "cell_type": "code",
   "execution_count": 20,
   "metadata": {},
   "outputs": [],
   "source": [
    "session.shutdown()\n",
    "cluster.shutdown()"
   ]
  }
 ]
}