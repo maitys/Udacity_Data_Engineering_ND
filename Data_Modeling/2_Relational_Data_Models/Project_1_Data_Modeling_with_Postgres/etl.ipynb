{
 "cells": [
  {
   "cell_type": "markdown",
   "metadata": {},
   "source": [
    "# ETL Processes\n",
    "Use this notebook to develop the ETL process for each of your tables before completing the `etl.py` file to load the whole datasets."
   ]
  },
  {
   "cell_type": "code",
   "execution_count": null,
   "metadata": {},
   "outputs": [],
   "source": [
    "#To show multiple outputs and misc. changes\n",
    "from IPython.core.interactiveshell import InteractiveShell\n",
    "InteractiveShell.ast_node_interactivity = \"all\" # Show all results without print (last_expr)"
   ]
  },
  {
   "cell_type": "code",
   "execution_count": null,
   "metadata": {},
   "outputs": [],
   "source": [
    "import os\n",
    "import glob\n",
    "import psycopg2\n",
    "import pandas as pd\n",
    "import numpy as np\n",
    "from sql_queries import *"
   ]
  },
  {
   "cell_type": "code",
   "execution_count": null,
   "metadata": {},
   "outputs": [],
   "source": [
    "conn = psycopg2.connect(\"host=127.0.0.1 dbname=sparkifydb user=student password=student\")\n",
    "cur = conn.cursor()"
   ]
  },
  {
   "cell_type": "code",
   "execution_count": null,
   "metadata": {},
   "outputs": [],
   "source": [
    "def get_files(filepath):\n",
    "    all_files = []\n",
    "    for root, dirs, files in os.walk(filepath):\n",
    "        files = glob.glob(os.path.join(root,'*.json'))\n",
    "        for f in files :\n",
    "            all_files.append(os.path.abspath(f))\n",
    "    \n",
    "    return all_files"
   ]
  },
  {
   "cell_type": "code",
   "execution_count": null,
   "metadata": {},
   "outputs": [],
   "source": [
    "# filepath = \"data/song_data\"\n",
    "# len(get_files(filepath))\n",
    "\n",
    "def process_data(filepath):\n",
    "    # get all files matching extension from directory\n",
    "    all_files = []\n",
    "    for root, dirs, files in os.walk(filepath):\n",
    "        files = glob.glob(os.path.join(root,'*.json'))\n",
    "        for f in files :\n",
    "            all_files.append(os.path.abspath(f))\n",
    "        print(root)\n",
    "\n",
    "    # get total number of files found\n",
    "    num_files = len(all_files)\n",
    "    print('{} files found in {}'.format(num_files, filepath))\n",
    "    print(filepath)\n",
    "process_data(\"data/log_data\")"
   ]
  },
  {
   "cell_type": "markdown",
   "metadata": {},
   "source": [
    "# Process `song_data`\n",
    "In this first part, you'll perform ETL on the first dataset, `song_data`, to create the `songs` and `artists` dimensional tables.\n",
    "\n",
    "Let's perform ETL on a single song file and load a single record into each table to start.\n",
    "- Use the `get_files` function provided above to get a list of all song JSON files in `data/song_data`\n",
    "- Select the first song in this list\n",
    "- Read the song file and view the data"
   ]
  },
  {
   "cell_type": "code",
   "execution_count": null,
   "metadata": {},
   "outputs": [],
   "source": [
    "# Get file paths\n",
    "filepath = \"data/song_data\"\n",
    "song_files = get_files(filepath)\n",
    "\n",
    "# Load single file to dataframe\n",
    "df = pd.read_json(song_files[0], typ=\"series\")\n",
    "df = pd.DataFrame([df])\n",
    "df"
   ]
  },
  {
   "cell_type": "markdown",
   "metadata": {},
   "source": [
    "## #1: `songs` Table\n",
    "#### Extract Data for Songs Table\n",
    "- Select columns for song ID, title, artist ID, year, and duration\n",
    "- Use `df.values` to select just the values from the dataframe\n",
    "- Index to select the first (only) record in the dataframe\n",
    "- Convert the array to a list and set it to `song_data`"
   ]
  },
  {
   "cell_type": "code",
   "execution_count": null,
   "metadata": {},
   "outputs": [],
   "source": [
    "# Load data\n",
    "df_songs_data = pd.DataFrame(columns=[\"num_songs\", \"artist_id\", \"artist_latitude\", \"artist_longitude\", \"artist_location\", \"artist_name\", \"song_id\", \"title\", \"duration\", \"year\"])\n",
    "\n",
    "# Load data from files to dataframe\n",
    "for i in range(len(song_files)):\n",
    "    df = pd.read_json(song_files[i], typ=\"series\")\n",
    "    df = pd.DataFrame([df])\n",
    "    df_songs_data = df_songs_data.append(df)\n",
    "df_songs_data = df_songs_data.sort_values(by=\"song_id\").reset_index(drop=True)\n",
    "\n",
    "# Fix columns\n",
    "df_songs_data[\"num_songs\"] = df_songs_data[\"num_songs\"].astype(int)\n",
    "df_songs_data[\"artist_id\"] = df_songs_data[\"artist_id\"].astype(str)\n",
    "df_songs_data[\"artist_latitude\"] = df_songs_data[\"artist_latitude\"].astype(float)\n",
    "df_songs_data[\"artist_longitude\"] = df_songs_data[\"artist_longitude\"].astype(float)\n",
    "df_songs_data[\"artist_location\"] = df_songs_data[\"artist_location\"].replace(r'', np.NaN)\n",
    "df_songs_data[\"artist_location\"] = df_songs_data[\"artist_location\"].astype(str)\n",
    "df_songs_data[\"artist_name\"] = df_songs_data[\"artist_name\"].astype(str)\n",
    "df_songs_data[\"song_id\"] = df_songs_data[\"song_id\"].astype(str)\n",
    "df_songs_data[\"title\"] = df_songs_data[\"title\"].astype(str)\n",
    "df_songs_data[\"duration\"] = df_songs_data[\"duration\"].astype(str)\n",
    "# df_songs_data[\"year\"] = df_songs_data[\"year\"].replace(0, np.NaN)\n",
    "df_songs_data[\"year\"] = df_songs_data[\"year\"].astype(int)\n",
    "\n",
    "df_songs_data.head(n=3)\n",
    "df_songs_data.info()"
   ]
  },
  {
   "cell_type": "code",
   "execution_count": null,
   "metadata": {},
   "outputs": [],
   "source": [
    "song_data = list(df_songs_data[[\"song_id\", \"title\", \"artist_id\", \"year\", \"duration\"]].values[0])\n",
    "song_data"
   ]
  },
  {
   "cell_type": "markdown",
   "metadata": {},
   "source": [
    "#### Insert Record into Song Table\n",
    "Implement the `song_table_insert` query in `sql_queries.py` and run the cell below to insert a record for this song into the `songs` table. Remember to run `create_tables.py` before running the cell below to ensure you've created/resetted the `songs` table in the sparkify database."
   ]
  },
  {
   "cell_type": "code",
   "execution_count": null,
   "metadata": {},
   "outputs": [],
   "source": [
    "for i, row in df_songs_data[[\"song_id\", \"title\", \"artist_id\", \"year\", \"duration\"]].iterrows():\n",
    "    cur.execute(song_table_insert, list(row))\n",
    "    conn.commit()\n",
    "    \n",
    "# cur.execute(song_table_insert, song_data)\n",
    "# conn.commit()"
   ]
  },
  {
   "cell_type": "markdown",
   "metadata": {},
   "source": [
    "Run `test.ipynb` to see if you've successfully added a record to this table."
   ]
  },
  {
   "cell_type": "markdown",
   "metadata": {},
   "source": [
    "## #2: `artists` Table\n",
    "#### Extract Data for Artists Table\n",
    "- Select columns for artist ID, name, location, latitude, and longitude\n",
    "- Use `df.values` to select just the values from the dataframe\n",
    "- Index to select the first (only) record in the dataframe\n",
    "- Convert the array to a list and set it to `artist_data`"
   ]
  },
  {
   "cell_type": "code",
   "execution_count": null,
   "metadata": {},
   "outputs": [],
   "source": [
    "artist_data = list(df_songs_data[[\"artist_id\", \"artist_name\", \"artist_location\", \"artist_latitude\", \"artist_longitude\"]].values[0])\n",
    "artist_data"
   ]
  },
  {
   "cell_type": "markdown",
   "metadata": {},
   "source": [
    "#### Insert Record into Artist Table\n",
    "Implement the `artist_table_insert` query in `sql_queries.py` and run the cell below to insert a record for this song's artist into the `artists` table. Remember to run `create_tables.py` before running the cell below to ensure you've created/resetted the `artists` table in the sparkify database."
   ]
  },
  {
   "cell_type": "code",
   "execution_count": null,
   "metadata": {},
   "outputs": [],
   "source": [
    "for i, row in df_songs_data[[\"artist_id\", \"artist_name\", \"artist_location\", \"artist_latitude\", \"artist_longitude\"]].iterrows():\n",
    "    cur.execute(artist_table_insert, list(row))\n",
    "    conn.commit()\n",
    "\n",
    "# cur.execute(artist_table_insert, artist_data)\n",
    "# conn.commit()"
   ]
  },
  {
   "cell_type": "markdown",
   "metadata": {},
   "source": [
    "Run `test.ipynb` to see if you've successfully added a record to this table."
   ]
  },
  {
   "cell_type": "markdown",
   "metadata": {},
   "source": [
    "# Process `log_data`\n",
    "In this part, you'll perform ETL on the second dataset, `log_data`, to create the `time` and `users` dimensional tables, as well as the `songplays` fact table.\n",
    "\n",
    "Let's perform ETL on a single log file and load a single record into each table.\n",
    "- Use the `get_files` function provided above to get a list of all log JSON files in `data/log_data`\n",
    "- Select the first log file in this list\n",
    "- Read the log file and view the data"
   ]
  },
  {
   "cell_type": "code",
   "execution_count": null,
   "metadata": {},
   "outputs": [],
   "source": [
    "# Get file paths\n",
    "filepath = \"data/log_data\"\n",
    "log_files = get_files(filepath)\n",
    "\n",
    "# Load single file to dataframe\n",
    "df = pd.read_json(log_files[0], lines=True)\n",
    "df.head(n=3)\n",
    "df.columns"
   ]
  },
  {
   "cell_type": "markdown",
   "metadata": {},
   "source": [
    "## #3: `time` Table\n",
    "#### Extract Data for Time Table\n",
    "- Filter records by `NextSong` action\n",
    "- Convert the `ts` timestamp column to datetime\n",
    "  - Hint: the current timestamp is in milliseconds\n",
    "- Extract the timestamp, hour, day, week of year, month, year, and weekday from the `ts` column and set `time_data` to a list containing these values in order\n",
    "  - Hint: use pandas' [`dt` attribute](https://pandas.pydata.org/pandas-docs/stable/reference/api/pandas.Series.dt.html) to access easily datetimelike properties.\n",
    "- Specify labels for these columns and set to `column_labels`\n",
    "- Create a dataframe, `time_df,` containing the time data for this file by combining `column_labels` and `time_data` into a dictionary and converting this into a dataframe"
   ]
  },
  {
   "cell_type": "code",
   "execution_count": null,
   "metadata": {},
   "outputs": [],
   "source": [
    "# Load data\n",
    "df_log_data = pd.DataFrame(columns=['artist', 'auth', 'firstName', 'gender', 'itemInSession', 'lastName', 'length', 'level', 'location', 'method', 'page','registration', 'sessionId', 'song', 'status', 'ts', 'userAgent', 'userId'])\n",
    "\n",
    "for i in range(len(log_files)):\n",
    "    df = pd.read_json(log_files[i], lines=True)\n",
    "    df_log_data = df_log_data.append(df)\n",
    "df_log_data = df_log_data.sort_values(by=\"ts\").reset_index(drop=True)\n",
    "\n",
    "# Fix columns\n",
    "df_log_data[\"length\"] = df_log_data[\"length\"].astype(str)\n",
    "df_log_data[\"registration\"] = df_log_data[\"registration\"].astype(float)\n",
    "df_log_data[\"sessionId\"] = df_log_data[\"sessionId\"].astype(int)\n",
    "df_log_data[\"status\"] = df_log_data[\"status\"].astype(int)\n",
    "# df_log_data[\"ts\"] = df_log_data[\"ts\"].astype(int)\n",
    "df_log_data = df_log_data.sort_values(by=\"ts\").reset_index(drop=True)\n",
    "df_log_data[\"userId\"] = df_log_data[\"userId\"].replace(r\"\", 0)\n",
    "df_log_data[\"userId\"] = df_log_data[\"userId\"].astype(int)\n",
    "df_log_data[\"ts\"] = pd.to_datetime(df_log_data['ts'], unit='ms') # .dt.tz_localize('UTC').dt.tz_convert('America/New_York')\n",
    "df_log_data = df_log_data[df_log_data[\"page\"]==\"NextSong\"]\n",
    "df_log_data.head(n=3)"
   ]
  },
  {
   "cell_type": "code",
   "execution_count": null,
   "metadata": {},
   "outputs": [],
   "source": [
    "time_df = df_log_data[[\"ts\"]].copy()\n",
    "time_df.columns = [\"start_time\"]\n",
    "time_df[\"hour\"] = time_df[\"start_time\"].dt.hour\n",
    "time_df[\"day\"] = time_df[\"start_time\"].dt.day\n",
    "time_df[\"week\"] = time_df[\"start_time\"].dt.isocalendar().week\n",
    "time_df[\"month\"] = time_df[\"start_time\"].dt.month\n",
    "time_df[\"year\"] = time_df[\"start_time\"].dt.year\n",
    "time_df[\"weekday\"] = time_df[\"start_time\"].dt.weekday\n",
    "#t[\"day_name\"] = t[\"start_time\"].dt.day_name()\n",
    "time_df = time_df.sort_values(by=\"start_time\").reset_index(drop=True)\n",
    "time_df.head()"
   ]
  },
  {
   "cell_type": "markdown",
   "metadata": {},
   "source": [
    "#### Insert Records into Time Table\n",
    "Implement the `time_table_insert` query in `sql_queries.py` and run the cell below to insert records for the timestamps in this log file into the `time` table. Remember to run `create_tables.py` before running the cell below to ensure you've created/resetted the `time` table in the sparkify database."
   ]
  },
  {
   "cell_type": "code",
   "execution_count": null,
   "metadata": {},
   "outputs": [],
   "source": [
    "for i, row in time_df.iterrows():\n",
    "    cur.execute(time_table_insert, list(row))\n",
    "    conn.commit()"
   ]
  },
  {
   "cell_type": "markdown",
   "metadata": {},
   "source": [
    "Run `test.ipynb` to see if you've successfully added records to this table."
   ]
  },
  {
   "cell_type": "markdown",
   "metadata": {},
   "source": [
    "## #4: `users` Table\n",
    "#### Extract Data for Users Table\n",
    "- Select columns for user ID, first name, last name, gender and level and set to `user_df`"
   ]
  },
  {
   "cell_type": "code",
   "execution_count": null,
   "metadata": {},
   "outputs": [],
   "source": [
    "user_df = df_log_data[[\"userId\", \"firstName\", \"lastName\", \"gender\", \"level\"]].copy()\n",
    "user_df.columns = [\"user_id\", \"first_name\", \"last_name\", \"gender\", \"level\"]\n",
    "# user_df = user_df.drop_duplicates()\n",
    "user_df.head(n=3)"
   ]
  },
  {
   "cell_type": "markdown",
   "metadata": {},
   "source": [
    "#### Insert Records into Users Table\n",
    "Implement the `user_table_insert` query in `sql_queries.py` and run the cell below to insert records for the users in this log file into the `users` table. Remember to run `create_tables.py` before running the cell below to ensure you've created/resetted the `users` table in the sparkify database."
   ]
  },
  {
   "cell_type": "code",
   "execution_count": null,
   "metadata": {},
   "outputs": [],
   "source": [
    "for i, row in user_df.iterrows():\n",
    "    cur.execute(user_table_insert, row)\n",
    "    conn.commit()"
   ]
  },
  {
   "cell_type": "markdown",
   "metadata": {},
   "source": [
    "Run `test.ipynb` to see if you've successfully added records to this table."
   ]
  },
  {
   "cell_type": "markdown",
   "metadata": {},
   "source": [
    "## #5: `songplays` Table\n",
    "#### Extract Data and Songplays Table\n",
    "This one is a little more complicated since information from the songs table, artists table, and original log file are all needed for the `songplays` table. Since the log file does not specify an ID for either the song or the artist, you'll need to get the song ID and artist ID by querying the songs and artists tables to find matches based on song title, artist name, and song duration time.\n",
    "- Implement the `song_select` query in `sql_queries.py` to find the song ID and artist ID based on the title, artist name, and duration of a song.\n",
    "- Select the timestamp, user ID, level, song ID, artist ID, session ID, location, and user agent and set to `songplay_data`\n",
    "\n",
    "#### Insert Records into Songplays Table\n",
    "- Implement the `songplay_table_insert` query and run the cell below to insert records for the songplay actions in this log file into the `songplays` table. Remember to run `create_tables.py` before running the cell below to ensure you've created/resetted the `songplays` table in the sparkify database."
   ]
  },
  {
   "cell_type": "code",
   "execution_count": null,
   "metadata": {},
   "outputs": [],
   "source": [
    "# df_songs_data.head()\n",
    "# df_log_data.head()\n",
    "# df_songs_data.merge(df_log_data, how=\"inner\", left_on=[\"artist_name\", \"title\", \"duration\"], right_on=[\"artist\", \"song\", \"length\"])"
   ]
  },
  {
   "cell_type": "code",
   "execution_count": null,
   "metadata": {
    "tags": []
   },
   "outputs": [],
   "source": [
    "for index, row in df_log_data.iterrows():\n",
    "\n",
    "    # get songid and artistid from song and artist tables\n",
    "    cur.execute(song_select, (row.song, row.artist, row.length))\n",
    "    results = cur.fetchone()\n",
    "    \n",
    "    if results:\n",
    "        songid, artistid = results\n",
    "    else:\n",
    "        songid, artistid = None, None\n",
    "\n",
    "    # insert songplay record\n",
    "    songplay_data = [row.ts, row.userId, row.level, songid, artistid, row.sessionId, row.location, row.userAgent]\n",
    "    cur.execute(songplay_table_insert, songplay_data)\n",
    "    conn.commit()"
   ]
  },
  {
   "cell_type": "markdown",
   "metadata": {},
   "source": [
    "Run `test.ipynb` to see if you've successfully added records to this table."
   ]
  },
  {
   "cell_type": "markdown",
   "metadata": {},
   "source": [
    "# Close Connection to Sparkify Database"
   ]
  },
  {
   "cell_type": "code",
   "execution_count": null,
   "metadata": {},
   "outputs": [],
   "source": [
    "conn.close()"
   ]
  },
  {
   "cell_type": "markdown",
   "metadata": {},
   "source": [
    "# Implement `etl.py`\n",
    "Use what you've completed in this notebook to implement `etl.py`."
   ]
  }
 ],
 "metadata": {
  "kernelspec": {
   "name": "python388jvsc74a57bd0159c49425eb9cd4289d564f1a3218f6b35b154706fbd11facf196a76522d3c01",
   "display_name": "Python 3.8.8 64-bit ('udacity_de_nd': conda)"
  },
  "language_info": {
   "codemirror_mode": {
    "name": "ipython",
    "version": 3
   },
   "file_extension": ".py",
   "mimetype": "text/x-python",
   "name": "python",
   "nbconvert_exporter": "python",
   "pygments_lexer": "ipython3",
   "version": "3.8.8-final"
  }
 },
 "nbformat": 4,
 "nbformat_minor": 2
}