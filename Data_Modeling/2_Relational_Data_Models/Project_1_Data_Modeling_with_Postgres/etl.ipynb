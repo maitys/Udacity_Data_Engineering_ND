{
 "cells": [
  {
   "cell_type": "markdown",
   "metadata": {},
   "source": [
    "# ETL Processes\n",
    "Use this notebook to develop the ETL process for each of your tables before completing the `etl.py` file to load the whole datasets."
   ]
  },
  {
   "cell_type": "code",
   "execution_count": 1,
   "metadata": {},
   "outputs": [],
   "source": [
    "#To show multiple outputs and misc. changes\n",
    "from IPython.core.interactiveshell import InteractiveShell\n",
    "InteractiveShell.ast_node_interactivity = \"all\" # Show all results without print (last_expr)"
   ]
  },
  {
   "cell_type": "code",
   "execution_count": 2,
   "metadata": {},
   "outputs": [],
   "source": [
    "import os\n",
    "import glob\n",
    "import psycopg2\n",
    "import pandas as pd\n",
    "import numpy as np\n",
    "from sql_queries import *"
   ]
  },
  {
   "cell_type": "code",
   "execution_count": 3,
   "metadata": {},
   "outputs": [],
   "source": [
    "conn = psycopg2.connect(\"host=127.0.0.1 dbname=sparkifydb user=student password=student\")\n",
    "cur = conn.cursor()"
   ]
  },
  {
   "cell_type": "code",
   "execution_count": 4,
   "metadata": {},
   "outputs": [],
   "source": [
    "def get_files(filepath):\n",
    "    all_files = []\n",
    "    for root, dirs, files in os.walk(filepath):\n",
    "        files = glob.glob(os.path.join(root,'*.json'))\n",
    "        for f in files :\n",
    "            all_files.append(os.path.abspath(f))\n",
    "    \n",
    "    return all_files"
   ]
  },
  {
   "cell_type": "code",
   "execution_count": 5,
   "metadata": {},
   "outputs": [
    {
     "output_type": "stream",
     "name": "stdout",
     "text": [
      "data/log_data\ndata/log_data\\2018\ndata/log_data\\2018\\11\n30 files found in data/log_data\ndata/log_data\n"
     ]
    }
   ],
   "source": [
    "# filepath = \"data/song_data\"\n",
    "# len(get_files(filepath))\n",
    "\n",
    "def process_data(filepath):\n",
    "    # get all files matching extension from directory\n",
    "    all_files = []\n",
    "    for root, dirs, files in os.walk(filepath):\n",
    "        files = glob.glob(os.path.join(root,'*.json'))\n",
    "        for f in files :\n",
    "            all_files.append(os.path.abspath(f))\n",
    "        print(root)\n",
    "\n",
    "    # get total number of files found\n",
    "    num_files = len(all_files)\n",
    "    print('{} files found in {}'.format(num_files, filepath))\n",
    "    print(filepath)\n",
    "process_data(\"data/log_data\")"
   ]
  },
  {
   "cell_type": "markdown",
   "metadata": {},
   "source": [
    "# Process `song_data`\n",
    "In this first part, you'll perform ETL on the first dataset, `song_data`, to create the `songs` and `artists` dimensional tables.\n",
    "\n",
    "Let's perform ETL on a single song file and load a single record into each table to start.\n",
    "- Use the `get_files` function provided above to get a list of all song JSON files in `data/song_data`\n",
    "- Select the first song in this list\n",
    "- Read the song file and view the data"
   ]
  },
  {
   "cell_type": "code",
   "execution_count": 6,
   "metadata": {},
   "outputs": [
    {
     "output_type": "execute_result",
     "data": {
      "text/plain": [
       "   num_songs           artist_id artist_latitude artist_longitude  \\\n",
       "0          1  ARD7TVE1187B99BFB1            None             None   \n",
       "\n",
       "   artist_location artist_name             song_id             title  \\\n",
       "0  California - LA      Casual  SOMZWCG12A8C13C480  I Didn't Mean To   \n",
       "\n",
       "    duration  year  \n",
       "0  218.93179     0  "
      ],
      "text/html": "<div>\n<style scoped>\n    .dataframe tbody tr th:only-of-type {\n        vertical-align: middle;\n    }\n\n    .dataframe tbody tr th {\n        vertical-align: top;\n    }\n\n    .dataframe thead th {\n        text-align: right;\n    }\n</style>\n<table border=\"1\" class=\"dataframe\">\n  <thead>\n    <tr style=\"text-align: right;\">\n      <th></th>\n      <th>num_songs</th>\n      <th>artist_id</th>\n      <th>artist_latitude</th>\n      <th>artist_longitude</th>\n      <th>artist_location</th>\n      <th>artist_name</th>\n      <th>song_id</th>\n      <th>title</th>\n      <th>duration</th>\n      <th>year</th>\n    </tr>\n  </thead>\n  <tbody>\n    <tr>\n      <th>0</th>\n      <td>1</td>\n      <td>ARD7TVE1187B99BFB1</td>\n      <td>None</td>\n      <td>None</td>\n      <td>California - LA</td>\n      <td>Casual</td>\n      <td>SOMZWCG12A8C13C480</td>\n      <td>I Didn't Mean To</td>\n      <td>218.93179</td>\n      <td>0</td>\n    </tr>\n  </tbody>\n</table>\n</div>"
     },
     "metadata": {},
     "execution_count": 6
    }
   ],
   "source": [
    "# Get file paths\n",
    "filepath = \"data/song_data\"\n",
    "song_files = get_files(filepath)\n",
    "\n",
    "# Load single file to dataframe\n",
    "df = pd.read_json(song_files[0], typ=\"series\")\n",
    "df = pd.DataFrame([df])\n",
    "df"
   ]
  },
  {
   "cell_type": "markdown",
   "metadata": {},
   "source": [
    "## #1: `songs` Table\n",
    "#### Extract Data for Songs Table\n",
    "- Select columns for song ID, title, artist ID, year, and duration\n",
    "- Use `df.values` to select just the values from the dataframe\n",
    "- Index to select the first (only) record in the dataframe\n",
    "- Convert the array to a list and set it to `song_data`"
   ]
  },
  {
   "cell_type": "code",
   "execution_count": 7,
   "metadata": {},
   "outputs": [
    {
     "output_type": "execute_result",
     "data": {
      "text/plain": [
       "   num_songs           artist_id  artist_latitude  artist_longitude  \\\n",
       "0          1  ARPBNLO1187FB3D52F         40.71455         -74.00712   \n",
       "1          1  ARDR4AC1187FB371A1              NaN               NaN   \n",
       "2          1  ARMAC4T1187FB3FA4C         40.82624         -74.47995   \n",
       "\n",
       "     artist_location                                        artist_name  \\\n",
       "0       New York, NY                                           Tiny Tim   \n",
       "1                nan  Montserrat Caballé;Placido Domingo;Vicente Sar...   \n",
       "2  Morris Plains, NJ                          The Dillinger Escape Plan   \n",
       "\n",
       "              song_id                                              title  \\\n",
       "0  SOAOIBZ12AB01815BE  I Hold Your Hand In Mine [Live At Royal Albert...   \n",
       "1  SOBAYLL12A8C138AF9                    Sono andati? Fingevo di dormire   \n",
       "2  SOBBUGU12A8C13E95D                    Setting Fire to Sleeping Giants   \n",
       "\n",
       "    duration  year  \n",
       "0   43.36281  2000  \n",
       "1  511.16363     0  \n",
       "2  207.77751  2004  "
      ],
      "text/html": "<div>\n<style scoped>\n    .dataframe tbody tr th:only-of-type {\n        vertical-align: middle;\n    }\n\n    .dataframe tbody tr th {\n        vertical-align: top;\n    }\n\n    .dataframe thead th {\n        text-align: right;\n    }\n</style>\n<table border=\"1\" class=\"dataframe\">\n  <thead>\n    <tr style=\"text-align: right;\">\n      <th></th>\n      <th>num_songs</th>\n      <th>artist_id</th>\n      <th>artist_latitude</th>\n      <th>artist_longitude</th>\n      <th>artist_location</th>\n      <th>artist_name</th>\n      <th>song_id</th>\n      <th>title</th>\n      <th>duration</th>\n      <th>year</th>\n    </tr>\n  </thead>\n  <tbody>\n    <tr>\n      <th>0</th>\n      <td>1</td>\n      <td>ARPBNLO1187FB3D52F</td>\n      <td>40.71455</td>\n      <td>-74.00712</td>\n      <td>New York, NY</td>\n      <td>Tiny Tim</td>\n      <td>SOAOIBZ12AB01815BE</td>\n      <td>I Hold Your Hand In Mine [Live At Royal Albert...</td>\n      <td>43.36281</td>\n      <td>2000</td>\n    </tr>\n    <tr>\n      <th>1</th>\n      <td>1</td>\n      <td>ARDR4AC1187FB371A1</td>\n      <td>NaN</td>\n      <td>NaN</td>\n      <td>nan</td>\n      <td>Montserrat Caballé;Placido Domingo;Vicente Sar...</td>\n      <td>SOBAYLL12A8C138AF9</td>\n      <td>Sono andati? Fingevo di dormire</td>\n      <td>511.16363</td>\n      <td>0</td>\n    </tr>\n    <tr>\n      <th>2</th>\n      <td>1</td>\n      <td>ARMAC4T1187FB3FA4C</td>\n      <td>40.82624</td>\n      <td>-74.47995</td>\n      <td>Morris Plains, NJ</td>\n      <td>The Dillinger Escape Plan</td>\n      <td>SOBBUGU12A8C13E95D</td>\n      <td>Setting Fire to Sleeping Giants</td>\n      <td>207.77751</td>\n      <td>2004</td>\n    </tr>\n  </tbody>\n</table>\n</div>"
     },
     "metadata": {},
     "execution_count": 7
    },
    {
     "output_type": "stream",
     "name": "stdout",
     "text": [
      "<class 'pandas.core.frame.DataFrame'>\nRangeIndex: 71 entries, 0 to 70\nData columns (total 10 columns):\n #   Column            Non-Null Count  Dtype  \n---  ------            --------------  -----  \n 0   num_songs         71 non-null     int32  \n 1   artist_id         71 non-null     object \n 2   artist_latitude   31 non-null     float64\n 3   artist_longitude  31 non-null     float64\n 4   artist_location   71 non-null     object \n 5   artist_name       71 non-null     object \n 6   song_id           71 non-null     object \n 7   title             71 non-null     object \n 8   duration          71 non-null     object \n 9   year              71 non-null     int32  \ndtypes: float64(2), int32(2), object(6)\nmemory usage: 5.1+ KB\n"
     ]
    }
   ],
   "source": [
    "# Load data\n",
    "df_songs_data = pd.DataFrame(columns=[\"num_songs\", \"artist_id\", \"artist_latitude\", \"artist_longitude\", \"artist_location\", \"artist_name\", \"song_id\", \"title\", \"duration\", \"year\"])\n",
    "\n",
    "# Load data from files to dataframe\n",
    "for i in range(len(song_files)):\n",
    "    df = pd.read_json(song_files[i], typ=\"series\")\n",
    "    df = pd.DataFrame([df])\n",
    "    df_songs_data = df_songs_data.append(df)\n",
    "df_songs_data = df_songs_data.sort_values(by=\"song_id\").reset_index(drop=True)\n",
    "\n",
    "# Fix columns\n",
    "df_songs_data[\"num_songs\"] = df_songs_data[\"num_songs\"].astype(int)\n",
    "df_songs_data[\"artist_id\"] = df_songs_data[\"artist_id\"].astype(str)\n",
    "df_songs_data[\"artist_latitude\"] = df_songs_data[\"artist_latitude\"].astype(float)\n",
    "df_songs_data[\"artist_longitude\"] = df_songs_data[\"artist_longitude\"].astype(float)\n",
    "df_songs_data[\"artist_location\"] = df_songs_data[\"artist_location\"].replace(r'', np.NaN)\n",
    "df_songs_data[\"artist_location\"] = df_songs_data[\"artist_location\"].astype(str)\n",
    "df_songs_data[\"artist_name\"] = df_songs_data[\"artist_name\"].astype(str)\n",
    "df_songs_data[\"song_id\"] = df_songs_data[\"song_id\"].astype(str)\n",
    "df_songs_data[\"title\"] = df_songs_data[\"title\"].astype(str)\n",
    "df_songs_data[\"duration\"] = df_songs_data[\"duration\"].astype(str)\n",
    "# df_songs_data[\"year\"] = df_songs_data[\"year\"].replace(0, np.NaN)\n",
    "df_songs_data[\"year\"] = df_songs_data[\"year\"].astype(int)\n",
    "\n",
    "df_songs_data.head(n=3)\n",
    "df_songs_data.info()"
   ]
  },
  {
   "cell_type": "code",
   "execution_count": 8,
   "metadata": {},
   "outputs": [
    {
     "output_type": "execute_result",
     "data": {
      "text/plain": [
       "['SOAOIBZ12AB01815BE',\n",
       " 'I Hold Your Hand In Mine [Live At Royal Albert Hall]',\n",
       " 'ARPBNLO1187FB3D52F',\n",
       " 2000,\n",
       " '43.36281']"
      ]
     },
     "metadata": {},
     "execution_count": 8
    }
   ],
   "source": [
    "song_data = list(df_songs_data[[\"song_id\", \"title\", \"artist_id\", \"year\", \"duration\"]].values[0])\n",
    "song_data"
   ]
  },
  {
   "cell_type": "markdown",
   "metadata": {},
   "source": [
    "#### Insert Record into Song Table\n",
    "Implement the `song_table_insert` query in `sql_queries.py` and run the cell below to insert a record for this song into the `songs` table. Remember to run `create_tables.py` before running the cell below to ensure you've created/resetted the `songs` table in the sparkify database."
   ]
  },
  {
   "cell_type": "code",
   "execution_count": 9,
   "metadata": {},
   "outputs": [],
   "source": [
    "for i, row in df_songs_data[[\"song_id\", \"title\", \"artist_id\", \"year\", \"duration\"]].iterrows():\n",
    "    cur.execute(song_table_insert, list(row))\n",
    "    conn.commit()\n",
    "    \n",
    "# cur.execute(song_table_insert, song_data)\n",
    "# conn.commit()"
   ]
  },
  {
   "cell_type": "markdown",
   "metadata": {},
   "source": [
    "Run `test.ipynb` to see if you've successfully added a record to this table."
   ]
  },
  {
   "cell_type": "markdown",
   "metadata": {},
   "source": [
    "## #2: `artists` Table\n",
    "#### Extract Data for Artists Table\n",
    "- Select columns for artist ID, name, location, latitude, and longitude\n",
    "- Use `df.values` to select just the values from the dataframe\n",
    "- Index to select the first (only) record in the dataframe\n",
    "- Convert the array to a list and set it to `artist_data`"
   ]
  },
  {
   "cell_type": "code",
   "execution_count": 10,
   "metadata": {},
   "outputs": [
    {
     "output_type": "execute_result",
     "data": {
      "text/plain": [
       "['ARPBNLO1187FB3D52F', 'Tiny Tim', 'New York, NY', 40.71455, -74.00712]"
      ]
     },
     "metadata": {},
     "execution_count": 10
    }
   ],
   "source": [
    "artist_data = list(df_songs_data[[\"artist_id\", \"artist_name\", \"artist_location\", \"artist_latitude\", \"artist_longitude\"]].values[0])\n",
    "artist_data"
   ]
  },
  {
   "cell_type": "markdown",
   "metadata": {},
   "source": [
    "#### Insert Record into Artist Table\n",
    "Implement the `artist_table_insert` query in `sql_queries.py` and run the cell below to insert a record for this song's artist into the `artists` table. Remember to run `create_tables.py` before running the cell below to ensure you've created/resetted the `artists` table in the sparkify database."
   ]
  },
  {
   "cell_type": "code",
   "execution_count": 11,
   "metadata": {},
   "outputs": [],
   "source": [
    "for i, row in df_songs_data[[\"artist_id\", \"artist_name\", \"artist_location\", \"artist_latitude\", \"artist_longitude\"]].iterrows():\n",
    "    cur.execute(artist_table_insert, list(row))\n",
    "    conn.commit()\n",
    "\n",
    "# cur.execute(artist_table_insert, artist_data)\n",
    "# conn.commit()"
   ]
  },
  {
   "cell_type": "markdown",
   "metadata": {},
   "source": [
    "Run `test.ipynb` to see if you've successfully added a record to this table."
   ]
  },
  {
   "cell_type": "markdown",
   "metadata": {},
   "source": [
    "# Process `log_data`\n",
    "In this part, you'll perform ETL on the second dataset, `log_data`, to create the `time` and `users` dimensional tables, as well as the `songplays` fact table.\n",
    "\n",
    "Let's perform ETL on a single log file and load a single record into each table.\n",
    "- Use the `get_files` function provided above to get a list of all log JSON files in `data/log_data`\n",
    "- Select the first log file in this list\n",
    "- Read the log file and view the data"
   ]
  },
  {
   "cell_type": "code",
   "execution_count": 12,
   "metadata": {},
   "outputs": [
    {
     "output_type": "execute_result",
     "data": {
      "text/plain": [
       "          artist       auth firstName gender  itemInSession lastName  \\\n",
       "0  Stephen Lynch  Logged In    Jayden      M              0     Bell   \n",
       "1        Manowar  Logged In     Jacob      M              0    Klein   \n",
       "2      Morcheeba  Logged In     Jacob      M              1    Klein   \n",
       "\n",
       "      length level                             location method      page  \\\n",
       "0  182.85669  free      Dallas-Fort Worth-Arlington, TX    PUT  NextSong   \n",
       "1  247.56200  paid  Tampa-St. Petersburg-Clearwater, FL    PUT  NextSong   \n",
       "2  257.41016  paid  Tampa-St. Petersburg-Clearwater, FL    PUT  NextSong   \n",
       "\n",
       "   registration  sessionId                                  song  status  \\\n",
       "0  1.540992e+12        829                     Jim Henson's Dead     200   \n",
       "1  1.540558e+12       1049                           Shell Shock     200   \n",
       "2  1.540558e+12       1049  Women Lose Weight (Feat: Slick Rick)     200   \n",
       "\n",
       "              ts                                          userAgent userId  \n",
       "0  1543537327796  Mozilla/5.0 (compatible; MSIE 10.0; Windows NT...     91  \n",
       "1  1543540121796  \"Mozilla/5.0 (Macintosh; Intel Mac OS X 10_9_4...     73  \n",
       "2  1543540368796  \"Mozilla/5.0 (Macintosh; Intel Mac OS X 10_9_4...     73  "
      ],
      "text/html": "<div>\n<style scoped>\n    .dataframe tbody tr th:only-of-type {\n        vertical-align: middle;\n    }\n\n    .dataframe tbody tr th {\n        vertical-align: top;\n    }\n\n    .dataframe thead th {\n        text-align: right;\n    }\n</style>\n<table border=\"1\" class=\"dataframe\">\n  <thead>\n    <tr style=\"text-align: right;\">\n      <th></th>\n      <th>artist</th>\n      <th>auth</th>\n      <th>firstName</th>\n      <th>gender</th>\n      <th>itemInSession</th>\n      <th>lastName</th>\n      <th>length</th>\n      <th>level</th>\n      <th>location</th>\n      <th>method</th>\n      <th>page</th>\n      <th>registration</th>\n      <th>sessionId</th>\n      <th>song</th>\n      <th>status</th>\n      <th>ts</th>\n      <th>userAgent</th>\n      <th>userId</th>\n    </tr>\n  </thead>\n  <tbody>\n    <tr>\n      <th>0</th>\n      <td>Stephen Lynch</td>\n      <td>Logged In</td>\n      <td>Jayden</td>\n      <td>M</td>\n      <td>0</td>\n      <td>Bell</td>\n      <td>182.85669</td>\n      <td>free</td>\n      <td>Dallas-Fort Worth-Arlington, TX</td>\n      <td>PUT</td>\n      <td>NextSong</td>\n      <td>1.540992e+12</td>\n      <td>829</td>\n      <td>Jim Henson's Dead</td>\n      <td>200</td>\n      <td>1543537327796</td>\n      <td>Mozilla/5.0 (compatible; MSIE 10.0; Windows NT...</td>\n      <td>91</td>\n    </tr>\n    <tr>\n      <th>1</th>\n      <td>Manowar</td>\n      <td>Logged In</td>\n      <td>Jacob</td>\n      <td>M</td>\n      <td>0</td>\n      <td>Klein</td>\n      <td>247.56200</td>\n      <td>paid</td>\n      <td>Tampa-St. Petersburg-Clearwater, FL</td>\n      <td>PUT</td>\n      <td>NextSong</td>\n      <td>1.540558e+12</td>\n      <td>1049</td>\n      <td>Shell Shock</td>\n      <td>200</td>\n      <td>1543540121796</td>\n      <td>\"Mozilla/5.0 (Macintosh; Intel Mac OS X 10_9_4...</td>\n      <td>73</td>\n    </tr>\n    <tr>\n      <th>2</th>\n      <td>Morcheeba</td>\n      <td>Logged In</td>\n      <td>Jacob</td>\n      <td>M</td>\n      <td>1</td>\n      <td>Klein</td>\n      <td>257.41016</td>\n      <td>paid</td>\n      <td>Tampa-St. Petersburg-Clearwater, FL</td>\n      <td>PUT</td>\n      <td>NextSong</td>\n      <td>1.540558e+12</td>\n      <td>1049</td>\n      <td>Women Lose Weight (Feat: Slick Rick)</td>\n      <td>200</td>\n      <td>1543540368796</td>\n      <td>\"Mozilla/5.0 (Macintosh; Intel Mac OS X 10_9_4...</td>\n      <td>73</td>\n    </tr>\n  </tbody>\n</table>\n</div>"
     },
     "metadata": {},
     "execution_count": 12
    },
    {
     "output_type": "execute_result",
     "data": {
      "text/plain": [
       "Index(['artist', 'auth', 'firstName', 'gender', 'itemInSession', 'lastName',\n",
       "       'length', 'level', 'location', 'method', 'page', 'registration',\n",
       "       'sessionId', 'song', 'status', 'ts', 'userAgent', 'userId'],\n",
       "      dtype='object')"
      ]
     },
     "metadata": {},
     "execution_count": 12
    }
   ],
   "source": [
    "# Get file paths\n",
    "filepath = \"data/log_data\"\n",
    "log_files = get_files(filepath)\n",
    "\n",
    "# Load single file to dataframe\n",
    "df = pd.read_json(log_files[0], lines=True)\n",
    "df.head(n=3)\n",
    "df.columns"
   ]
  },
  {
   "cell_type": "markdown",
   "metadata": {},
   "source": [
    "## #3: `time` Table\n",
    "#### Extract Data for Time Table\n",
    "- Filter records by `NextSong` action\n",
    "- Convert the `ts` timestamp column to datetime\n",
    "  - Hint: the current timestamp is in milliseconds\n",
    "- Extract the timestamp, hour, day, week of year, month, year, and weekday from the `ts` column and set `time_data` to a list containing these values in order\n",
    "  - Hint: use pandas' [`dt` attribute](https://pandas.pydata.org/pandas-docs/stable/reference/api/pandas.Series.dt.html) to access easily datetimelike properties.\n",
    "- Specify labels for these columns and set to `column_labels`\n",
    "- Create a dataframe, `time_df,` containing the time data for this file by combining `column_labels` and `time_data` into a dictionary and converting this into a dataframe"
   ]
  },
  {
   "cell_type": "code",
   "execution_count": 13,
   "metadata": {},
   "outputs": [
    {
     "output_type": "execute_result",
     "data": {
      "text/plain": [
       "       artist       auth firstName gender itemInSession lastName     length  \\\n",
       "1     Des'ree  Logged In    Kaylee      F             1  Summers  246.30812   \n",
       "4     Mr Oizo  Logged In    Kaylee      F             3  Summers  144.03873   \n",
       "5  Tamba Trio  Logged In    Kaylee      F             4  Summers  177.18812   \n",
       "\n",
       "  level                     location method      page  registration  \\\n",
       "1  free  Phoenix-Mesa-Scottsdale, AZ    PUT  NextSong  1.540345e+12   \n",
       "4  free  Phoenix-Mesa-Scottsdale, AZ    PUT  NextSong  1.540345e+12   \n",
       "5  free  Phoenix-Mesa-Scottsdale, AZ    PUT  NextSong  1.540345e+12   \n",
       "\n",
       "   sessionId                          song  status                      ts  \\\n",
       "1        139                  You Gotta Be     200 2018-11-01 21:01:46.796   \n",
       "4        139                       Flat 55     200 2018-11-01 21:05:52.796   \n",
       "5        139  Quem Quiser Encontrar O Amor     200 2018-11-01 21:08:16.796   \n",
       "\n",
       "                                           userAgent  userId  \n",
       "1  \"Mozilla/5.0 (Windows NT 6.1; WOW64) AppleWebK...       8  \n",
       "4  \"Mozilla/5.0 (Windows NT 6.1; WOW64) AppleWebK...       8  \n",
       "5  \"Mozilla/5.0 (Windows NT 6.1; WOW64) AppleWebK...       8  "
      ],
      "text/html": "<div>\n<style scoped>\n    .dataframe tbody tr th:only-of-type {\n        vertical-align: middle;\n    }\n\n    .dataframe tbody tr th {\n        vertical-align: top;\n    }\n\n    .dataframe thead th {\n        text-align: right;\n    }\n</style>\n<table border=\"1\" class=\"dataframe\">\n  <thead>\n    <tr style=\"text-align: right;\">\n      <th></th>\n      <th>artist</th>\n      <th>auth</th>\n      <th>firstName</th>\n      <th>gender</th>\n      <th>itemInSession</th>\n      <th>lastName</th>\n      <th>length</th>\n      <th>level</th>\n      <th>location</th>\n      <th>method</th>\n      <th>page</th>\n      <th>registration</th>\n      <th>sessionId</th>\n      <th>song</th>\n      <th>status</th>\n      <th>ts</th>\n      <th>userAgent</th>\n      <th>userId</th>\n    </tr>\n  </thead>\n  <tbody>\n    <tr>\n      <th>1</th>\n      <td>Des'ree</td>\n      <td>Logged In</td>\n      <td>Kaylee</td>\n      <td>F</td>\n      <td>1</td>\n      <td>Summers</td>\n      <td>246.30812</td>\n      <td>free</td>\n      <td>Phoenix-Mesa-Scottsdale, AZ</td>\n      <td>PUT</td>\n      <td>NextSong</td>\n      <td>1.540345e+12</td>\n      <td>139</td>\n      <td>You Gotta Be</td>\n      <td>200</td>\n      <td>2018-11-01 21:01:46.796</td>\n      <td>\"Mozilla/5.0 (Windows NT 6.1; WOW64) AppleWebK...</td>\n      <td>8</td>\n    </tr>\n    <tr>\n      <th>4</th>\n      <td>Mr Oizo</td>\n      <td>Logged In</td>\n      <td>Kaylee</td>\n      <td>F</td>\n      <td>3</td>\n      <td>Summers</td>\n      <td>144.03873</td>\n      <td>free</td>\n      <td>Phoenix-Mesa-Scottsdale, AZ</td>\n      <td>PUT</td>\n      <td>NextSong</td>\n      <td>1.540345e+12</td>\n      <td>139</td>\n      <td>Flat 55</td>\n      <td>200</td>\n      <td>2018-11-01 21:05:52.796</td>\n      <td>\"Mozilla/5.0 (Windows NT 6.1; WOW64) AppleWebK...</td>\n      <td>8</td>\n    </tr>\n    <tr>\n      <th>5</th>\n      <td>Tamba Trio</td>\n      <td>Logged In</td>\n      <td>Kaylee</td>\n      <td>F</td>\n      <td>4</td>\n      <td>Summers</td>\n      <td>177.18812</td>\n      <td>free</td>\n      <td>Phoenix-Mesa-Scottsdale, AZ</td>\n      <td>PUT</td>\n      <td>NextSong</td>\n      <td>1.540345e+12</td>\n      <td>139</td>\n      <td>Quem Quiser Encontrar O Amor</td>\n      <td>200</td>\n      <td>2018-11-01 21:08:16.796</td>\n      <td>\"Mozilla/5.0 (Windows NT 6.1; WOW64) AppleWebK...</td>\n      <td>8</td>\n    </tr>\n  </tbody>\n</table>\n</div>"
     },
     "metadata": {},
     "execution_count": 13
    },
    {
     "output_type": "stream",
     "name": "stdout",
     "text": [
      "<class 'pandas.core.frame.DataFrame'>\nInt64Index: 6820 entries, 1 to 8055\nData columns (total 18 columns):\n #   Column         Non-Null Count  Dtype         \n---  ------         --------------  -----         \n 0   artist         6820 non-null   object        \n 1   auth           6820 non-null   object        \n 2   firstName      6820 non-null   object        \n 3   gender         6820 non-null   object        \n 4   itemInSession  6820 non-null   object        \n 5   lastName       6820 non-null   object        \n 6   length         6820 non-null   object        \n 7   level          6820 non-null   object        \n 8   location       6820 non-null   object        \n 9   method         6820 non-null   object        \n 10  page           6820 non-null   object        \n 11  registration   6820 non-null   float64       \n 12  sessionId      6820 non-null   int32         \n 13  song           6820 non-null   object        \n 14  status         6820 non-null   int32         \n 15  ts             6820 non-null   datetime64[ns]\n 16  userAgent      6820 non-null   object        \n 17  userId         6820 non-null   int32         \ndtypes: datetime64[ns](1), float64(1), int32(3), object(13)\nmemory usage: 932.4+ KB\n"
     ]
    }
   ],
   "source": [
    "# Load data\n",
    "df_log_data = pd.DataFrame(columns=['artist', 'auth', 'firstName', 'gender', 'itemInSession', 'lastName', 'length', 'level', 'location', 'method', 'page','registration', 'sessionId', 'song', 'status', 'ts', 'userAgent', 'userId'])\n",
    "\n",
    "for i in range(len(log_files)):\n",
    "    df = pd.read_json(log_files[i], lines=True)\n",
    "    df_log_data = df_log_data.append(df)\n",
    "df_log_data = df_log_data.sort_values(by=\"ts\").reset_index(drop=True)\n",
    "\n",
    "# Fix columns\n",
    "df_log_data[\"length\"] = df_log_data[\"length\"].astype(str)\n",
    "df_log_data[\"registration\"] = df_log_data[\"registration\"].astype(float)\n",
    "df_log_data[\"sessionId\"] = df_log_data[\"sessionId\"].astype(int)\n",
    "df_log_data[\"status\"] = df_log_data[\"status\"].astype(int)\n",
    "# df_log_data[\"ts\"] = df_log_data[\"ts\"].astype(int)\n",
    "df_log_data = df_log_data.sort_values(by=\"ts\").reset_index(drop=True)\n",
    "df_log_data[\"userId\"] = df_log_data[\"userId\"].replace(r\"\", 0)\n",
    "df_log_data[\"userId\"] = df_log_data[\"userId\"].astype(int)\n",
    "df_log_data[\"ts\"] = pd.to_datetime(df_log_data['ts'], unit='ms') # .dt.tz_localize('UTC').dt.tz_convert('America/New_York')\n",
    "df_log_data = df_log_data[df_log_data[\"page\"]==\"NextSong\"]\n",
    "df_log_data.head(n=3)\n",
    "df_log_data.info()"
   ]
  },
  {
   "cell_type": "code",
   "execution_count": 14,
   "metadata": {},
   "outputs": [
    {
     "output_type": "execute_result",
     "data": {
      "text/plain": [
       "               start_time  hour  day  week  month  year  weekday\n",
       "0 2018-11-01 21:01:46.796    21    1    44     11  2018        3\n",
       "1 2018-11-01 21:05:52.796    21    1    44     11  2018        3\n",
       "2 2018-11-01 21:08:16.796    21    1    44     11  2018        3\n",
       "3 2018-11-01 21:11:13.796    21    1    44     11  2018        3\n",
       "4 2018-11-01 21:17:33.796    21    1    44     11  2018        3"
      ],
      "text/html": "<div>\n<style scoped>\n    .dataframe tbody tr th:only-of-type {\n        vertical-align: middle;\n    }\n\n    .dataframe tbody tr th {\n        vertical-align: top;\n    }\n\n    .dataframe thead th {\n        text-align: right;\n    }\n</style>\n<table border=\"1\" class=\"dataframe\">\n  <thead>\n    <tr style=\"text-align: right;\">\n      <th></th>\n      <th>start_time</th>\n      <th>hour</th>\n      <th>day</th>\n      <th>week</th>\n      <th>month</th>\n      <th>year</th>\n      <th>weekday</th>\n    </tr>\n  </thead>\n  <tbody>\n    <tr>\n      <th>0</th>\n      <td>2018-11-01 21:01:46.796</td>\n      <td>21</td>\n      <td>1</td>\n      <td>44</td>\n      <td>11</td>\n      <td>2018</td>\n      <td>3</td>\n    </tr>\n    <tr>\n      <th>1</th>\n      <td>2018-11-01 21:05:52.796</td>\n      <td>21</td>\n      <td>1</td>\n      <td>44</td>\n      <td>11</td>\n      <td>2018</td>\n      <td>3</td>\n    </tr>\n    <tr>\n      <th>2</th>\n      <td>2018-11-01 21:08:16.796</td>\n      <td>21</td>\n      <td>1</td>\n      <td>44</td>\n      <td>11</td>\n      <td>2018</td>\n      <td>3</td>\n    </tr>\n    <tr>\n      <th>3</th>\n      <td>2018-11-01 21:11:13.796</td>\n      <td>21</td>\n      <td>1</td>\n      <td>44</td>\n      <td>11</td>\n      <td>2018</td>\n      <td>3</td>\n    </tr>\n    <tr>\n      <th>4</th>\n      <td>2018-11-01 21:17:33.796</td>\n      <td>21</td>\n      <td>1</td>\n      <td>44</td>\n      <td>11</td>\n      <td>2018</td>\n      <td>3</td>\n    </tr>\n  </tbody>\n</table>\n</div>"
     },
     "metadata": {},
     "execution_count": 14
    }
   ],
   "source": [
    "time_df = df_log_data[[\"ts\"]].copy()\n",
    "time_df.columns = [\"start_time\"]\n",
    "time_df[\"hour\"] = time_df[\"start_time\"].dt.hour\n",
    "time_df[\"day\"] = time_df[\"start_time\"].dt.day\n",
    "time_df[\"week\"] = time_df[\"start_time\"].dt.isocalendar().week\n",
    "time_df[\"month\"] = time_df[\"start_time\"].dt.month\n",
    "time_df[\"year\"] = time_df[\"start_time\"].dt.year\n",
    "time_df[\"weekday\"] = time_df[\"start_time\"].dt.weekday\n",
    "#t[\"day_name\"] = t[\"start_time\"].dt.day_name()\n",
    "time_df = time_df.sort_values(by=\"start_time\").reset_index(drop=True)\n",
    "time_df.head()"
   ]
  },
  {
   "cell_type": "markdown",
   "metadata": {},
   "source": [
    "#### Insert Records into Time Table\n",
    "Implement the `time_table_insert` query in `sql_queries.py` and run the cell below to insert records for the timestamps in this log file into the `time` table. Remember to run `create_tables.py` before running the cell below to ensure you've created/resetted the `time` table in the sparkify database."
   ]
  },
  {
   "cell_type": "code",
   "execution_count": 15,
   "metadata": {},
   "outputs": [],
   "source": [
    "for i, row in time_df.iterrows():\n",
    "    cur.execute(time_table_insert, list(row))\n",
    "    conn.commit()"
   ]
  },
  {
   "cell_type": "markdown",
   "metadata": {},
   "source": [
    "Run `test.ipynb` to see if you've successfully added records to this table."
   ]
  },
  {
   "cell_type": "markdown",
   "metadata": {},
   "source": [
    "## #4: `users` Table\n",
    "#### Extract Data for Users Table\n",
    "- Select columns for user ID, first name, last name, gender and level and set to `user_df`"
   ]
  },
  {
   "cell_type": "code",
   "execution_count": 16,
   "metadata": {},
   "outputs": [
    {
     "output_type": "execute_result",
     "data": {
      "text/plain": [
       "   user_id first_name last_name gender level\n",
       "1        8     Kaylee   Summers      F  free\n",
       "4        8     Kaylee   Summers      F  free\n",
       "5        8     Kaylee   Summers      F  free"
      ],
      "text/html": "<div>\n<style scoped>\n    .dataframe tbody tr th:only-of-type {\n        vertical-align: middle;\n    }\n\n    .dataframe tbody tr th {\n        vertical-align: top;\n    }\n\n    .dataframe thead th {\n        text-align: right;\n    }\n</style>\n<table border=\"1\" class=\"dataframe\">\n  <thead>\n    <tr style=\"text-align: right;\">\n      <th></th>\n      <th>user_id</th>\n      <th>first_name</th>\n      <th>last_name</th>\n      <th>gender</th>\n      <th>level</th>\n    </tr>\n  </thead>\n  <tbody>\n    <tr>\n      <th>1</th>\n      <td>8</td>\n      <td>Kaylee</td>\n      <td>Summers</td>\n      <td>F</td>\n      <td>free</td>\n    </tr>\n    <tr>\n      <th>4</th>\n      <td>8</td>\n      <td>Kaylee</td>\n      <td>Summers</td>\n      <td>F</td>\n      <td>free</td>\n    </tr>\n    <tr>\n      <th>5</th>\n      <td>8</td>\n      <td>Kaylee</td>\n      <td>Summers</td>\n      <td>F</td>\n      <td>free</td>\n    </tr>\n  </tbody>\n</table>\n</div>"
     },
     "metadata": {},
     "execution_count": 16
    },
    {
     "output_type": "stream",
     "name": "stdout",
     "text": [
      "<class 'pandas.core.frame.DataFrame'>\nInt64Index: 6820 entries, 1 to 8055\nData columns (total 5 columns):\n #   Column      Non-Null Count  Dtype \n---  ------      --------------  ----- \n 0   user_id     6820 non-null   int32 \n 1   first_name  6820 non-null   object\n 2   last_name   6820 non-null   object\n 3   gender      6820 non-null   object\n 4   level       6820 non-null   object\ndtypes: int32(1), object(4)\nmemory usage: 293.0+ KB\n"
     ]
    }
   ],
   "source": [
    "user_df = df_log_data[[\"userId\", \"firstName\", \"lastName\", \"gender\", \"level\"]].copy()\n",
    "user_df.columns = [\"user_id\", \"first_name\", \"last_name\", \"gender\", \"level\"]\n",
    "# user_df = user_df.drop_duplicates()\n",
    "user_df.head(n=3)\n",
    "user_df.info()"
   ]
  },
  {
   "cell_type": "markdown",
   "metadata": {},
   "source": [
    "#### Insert Records into Users Table\n",
    "Implement the `user_table_insert` query in `sql_queries.py` and run the cell below to insert records for the users in this log file into the `users` table. Remember to run `create_tables.py` before running the cell below to ensure you've created/resetted the `users` table in the sparkify database."
   ]
  },
  {
   "cell_type": "code",
   "execution_count": 17,
   "metadata": {},
   "outputs": [],
   "source": [
    "for i, row in user_df.iterrows():\n",
    "    cur.execute(user_table_insert, row)\n",
    "    conn.commit()"
   ]
  },
  {
   "cell_type": "markdown",
   "metadata": {},
   "source": [
    "Run `test.ipynb` to see if you've successfully added records to this table."
   ]
  },
  {
   "cell_type": "markdown",
   "metadata": {},
   "source": [
    "## #5: `songplays` Table\n",
    "#### Extract Data and Songplays Table\n",
    "This one is a little more complicated since information from the songs table, artists table, and original log file are all needed for the `songplays` table. Since the log file does not specify an ID for either the song or the artist, you'll need to get the song ID and artist ID by querying the songs and artists tables to find matches based on song title, artist name, and song duration time.\n",
    "- Implement the `song_select` query in `sql_queries.py` to find the song ID and artist ID based on the title, artist name, and duration of a song.\n",
    "- Select the timestamp, user ID, level, song ID, artist ID, session ID, location, and user agent and set to `songplay_data`\n",
    "\n",
    "#### Insert Records into Songplays Table\n",
    "- Implement the `songplay_table_insert` query and run the cell below to insert records for the songplay actions in this log file into the `songplays` table. Remember to run `create_tables.py` before running the cell below to ensure you've created/resetted the `songplays` table in the sparkify database."
   ]
  },
  {
   "cell_type": "code",
   "execution_count": 18,
   "metadata": {},
   "outputs": [],
   "source": [
    "# df_songs_data.head()\n",
    "# df_log_data.head()\n",
    "# df_songs_data.merge(df_log_data, how=\"inner\", left_on=[\"artist_name\", \"title\", \"duration\"], right_on=[\"artist\", \"song\", \"length\"])"
   ]
  },
  {
   "cell_type": "code",
   "execution_count": 19,
   "metadata": {
    "tags": []
   },
   "outputs": [],
   "source": [
    "for index, row in df_log_data.iterrows():\n",
    "\n",
    "    # get songid and artistid from song and artist tables\n",
    "    cur.execute(song_select, (row.song, row.artist, row.length))\n",
    "    results = cur.fetchone()\n",
    "    \n",
    "    if results:\n",
    "        songid, artistid = results\n",
    "    else:\n",
    "        songid, artistid = None, None\n",
    "\n",
    "    # insert songplay record\n",
    "    songplay_data = [row.ts, row.userId, row.level, songid, artistid, row.sessionId, row.location, row.userAgent]\n",
    "    cur.execute(songplay_table_insert, songplay_data)\n",
    "    conn.commit()"
   ]
  },
  {
   "cell_type": "markdown",
   "metadata": {},
   "source": [
    "Run `test.ipynb` to see if you've successfully added records to this table."
   ]
  },
  {
   "cell_type": "markdown",
   "metadata": {},
   "source": [
    "# Close Connection to Sparkify Database"
   ]
  },
  {
   "cell_type": "code",
   "execution_count": 20,
   "metadata": {},
   "outputs": [],
   "source": [
    "conn.close()"
   ]
  },
  {
   "cell_type": "markdown",
   "metadata": {},
   "source": [
    "# Implement `etl.py`\n",
    "Use what you've completed in this notebook to implement `etl.py`."
   ]
  }
 ],
 "metadata": {
  "kernelspec": {
   "name": "python388jvsc74a57bd0159c49425eb9cd4289d564f1a3218f6b35b154706fbd11facf196a76522d3c01",
   "display_name": "Python 3.8.8 64-bit"
  },
  "language_info": {
   "codemirror_mode": {
    "name": "ipython",
    "version": 3
   },
   "file_extension": ".py",
   "mimetype": "text/x-python",
   "name": "python",
   "nbconvert_exporter": "python",
   "pygments_lexer": "ipython3",
   "version": "3.8.8-final"
  }
 },
 "nbformat": 4,
 "nbformat_minor": 2
}